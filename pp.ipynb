{
 "cells": [
  {
   "cell_type": "code",
   "execution_count": 3,
   "metadata": {},
   "outputs": [
    {
     "name": "stdout",
     "output_type": "stream",
     "text": [
      "Current Date:  2022-12-08 20:33:35.546044\n",
      "2021-04-08 20:33:35.546044\n"
     ]
    }
   ],
   "source": [
    "from datetime import datetime\n",
    "from dateutil.relativedelta import relativedelta\n",
    "current_date = datetime.today()\n",
    "print('Current Date: ', current_date)\n",
    "# Subtract 20 months from current date\n",
    "n = 20\n",
    "past_date = current_date - relativedelta(months=n)\n",
    "print(past_date)"
   ]
  }
 ],
 "metadata": {
  "kernelspec": {
   "display_name": "Python 3.10.4 ('briefsql')",
   "language": "python",
   "name": "python3"
  },
  "language_info": {
   "codemirror_mode": {
    "name": "ipython",
    "version": 3
   },
   "file_extension": ".py",
   "mimetype": "text/x-python",
   "name": "python",
   "nbconvert_exporter": "python",
   "pygments_lexer": "ipython3",
   "version": "3.10.4"
  },
  "orig_nbformat": 4,
  "vscode": {
   "interpreter": {
    "hash": "66062081e44bb5277d8e414a13dfe298be444124435603c2e8a4ad0125e17b7a"
   }
  }
 },
 "nbformat": 4,
 "nbformat_minor": 2
}

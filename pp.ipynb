{
 "cells": [
  {
   "cell_type": "code",
   "execution_count": 3,
   "metadata": {},
   "outputs": [
    {
     "name": "stdout",
     "output_type": "stream",
     "text": [
      "Current Date:  2022-12-08 20:33:35.546044\n",
      "2021-04-08 20:33:35.546044\n"
     ]
    }
   ],
   "source": [
    "from sqlalchemy import MetaData,create_engine,select\n",
    "from faker import Faker\n",
    "from faker_food import FoodProvider\n",
    "from random import randint,uniform,choice\n",
    "from random import randrange\n",
    "from datetime import timedelta\n",
    "from datetime import datetime\n",
    "from dateutil.relativedelta import relativedelta\n"
   ]
  },
  {
   "cell_type": "code",
   "execution_count": null,
   "metadata": {},
   "outputs": [],
   "source": [
    "engine = create_engine('sqlite:///restaurant.db')\n",
    "metadata = MetaData()\n",
    "with engine.connect() as conn: #connection avec notre base de données existantes\n",
    "    metadata.reflect(conn)"
   ]
  },
  {
   "cell_type": "code",
   "execution_count": null,
   "metadata": {},
   "outputs": [],
   "source": []
  }
 ],
 "metadata": {
  "kernelspec": {
   "display_name": "Python 3.10.8 ('sql')",
   "language": "python",
   "name": "python3"
  },
  "language_info": {
   "codemirror_mode": {
    "name": "ipython",
    "version": 3
   },
   "file_extension": ".py",
   "mimetype": "text/x-python",
   "name": "python",
   "nbconvert_exporter": "python",
   "pygments_lexer": "ipython3",
   "version": "3.10.8"
  },
  "orig_nbformat": 4,
  "vscode": {
   "interpreter": {
    "hash": "b1c06e4ae51d314a790b36a63c3374957c5954d4fa0164837fbd9624fe7909e7"
   }
  }
 },
 "nbformat": 4,
 "nbformat_minor": 2
}

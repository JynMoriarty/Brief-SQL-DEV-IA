{
 "cells": [
  {
   "cell_type": "code",
   "execution_count": 93,
   "metadata": {},
   "outputs": [],
   "source": [
    "from faker import Faker\n",
    "import pandas as pd\n",
    "import numpy as np\n",
    "import sqlite3\n",
    "from sqlalchemy import create_engine"
   ]
  },
  {
   "cell_type": "code",
   "execution_count": 94,
   "metadata": {},
   "outputs": [],
   "source": [
    "db_uri = 'sqlite:///file.db'\n",
    "engine = create_engine(db_uri, echo=False)"
   ]
  },
  {
   "cell_type": "code",
   "execution_count": 95,
   "metadata": {},
   "outputs": [],
   "source": [
    "conn = sqlite3.connect('test_database')"
   ]
  },
  {
   "cell_type": "code",
   "execution_count": 96,
   "metadata": {},
   "outputs": [],
   "source": [
    "c = conn.cursor()"
   ]
  },
  {
   "cell_type": "code",
   "execution_count": 97,
   "metadata": {},
   "outputs": [],
   "source": [
    "f = Faker(\"fr_FR\")"
   ]
  },
  {
   "cell_type": "code",
   "execution_count": 98,
   "metadata": {},
   "outputs": [],
   "source": [
    "nom = []\n",
    "adresse = []"
   ]
  },
  {
   "cell_type": "code",
   "execution_count": 99,
   "metadata": {},
   "outputs": [],
   "source": [
    "for _ in range(10):\n",
    "    nom.append(f.name())"
   ]
  },
  {
   "cell_type": "code",
   "execution_count": 100,
   "metadata": {},
   "outputs": [
    {
     "data": {
      "text/plain": [
       "['Susanne Lucas',\n",
       " 'Caroline Dijoux',\n",
       " 'Valentine Schmitt',\n",
       " 'Théodore Lévêque-Barbier',\n",
       " 'Auguste Charles',\n",
       " 'Thierry Tanguy-Bodin',\n",
       " 'Julie Samson-Brunet',\n",
       " 'Daniel du Evrard',\n",
       " 'Tristan Meyer-Meunier',\n",
       " 'Anne-Josette Vaillant']"
      ]
     },
     "execution_count": 100,
     "metadata": {},
     "output_type": "execute_result"
    }
   ],
   "source": [
    "nom"
   ]
  },
  {
   "cell_type": "code",
   "execution_count": 101,
   "metadata": {},
   "outputs": [],
   "source": [
    "for _ in range(10):\n",
    "    adresse.append(f.address())"
   ]
  },
  {
   "cell_type": "code",
   "execution_count": 102,
   "metadata": {},
   "outputs": [],
   "source": [
    "df = pd.DataFrame(zip(nom,adresse),columns=[\"nom\",\"adresse\"])"
   ]
  },
  {
   "cell_type": "code",
   "execution_count": 103,
   "metadata": {},
   "outputs": [
    {
     "data": {
      "text/html": [
       "<div>\n",
       "<style scoped>\n",
       "    .dataframe tbody tr th:only-of-type {\n",
       "        vertical-align: middle;\n",
       "    }\n",
       "\n",
       "    .dataframe tbody tr th {\n",
       "        vertical-align: top;\n",
       "    }\n",
       "\n",
       "    .dataframe thead th {\n",
       "        text-align: right;\n",
       "    }\n",
       "</style>\n",
       "<table border=\"1\" class=\"dataframe\">\n",
       "  <thead>\n",
       "    <tr style=\"text-align: right;\">\n",
       "      <th></th>\n",
       "      <th>nom</th>\n",
       "      <th>adresse</th>\n",
       "    </tr>\n",
       "  </thead>\n",
       "  <tbody>\n",
       "    <tr>\n",
       "      <th>0</th>\n",
       "      <td>Susanne Lucas</td>\n",
       "      <td>12, boulevard Lemonnier\\n17442 Sainte Matthieu...</td>\n",
       "    </tr>\n",
       "    <tr>\n",
       "      <th>1</th>\n",
       "      <td>Caroline Dijoux</td>\n",
       "      <td>76, rue Marcel Guillet\\n90269 Schneider-la-Forêt</td>\n",
       "    </tr>\n",
       "    <tr>\n",
       "      <th>2</th>\n",
       "      <td>Valentine Schmitt</td>\n",
       "      <td>5, chemin Pauline Fabre\\n83650 Bonnin-sur-Leleu</td>\n",
       "    </tr>\n",
       "    <tr>\n",
       "      <th>3</th>\n",
       "      <td>Théodore Lévêque-Barbier</td>\n",
       "      <td>134, chemin Lenoir\\n84614 Traorenec</td>\n",
       "    </tr>\n",
       "    <tr>\n",
       "      <th>4</th>\n",
       "      <td>Auguste Charles</td>\n",
       "      <td>66, avenue Michèle Perret\\n80273 Mahe</td>\n",
       "    </tr>\n",
       "    <tr>\n",
       "      <th>5</th>\n",
       "      <td>Thierry Tanguy-Bodin</td>\n",
       "      <td>42, rue Fouquet\\n25512 Pires</td>\n",
       "    </tr>\n",
       "    <tr>\n",
       "      <th>6</th>\n",
       "      <td>Julie Samson-Brunet</td>\n",
       "      <td>58, avenue Henri Delattre\\n86760 Chevalier</td>\n",
       "    </tr>\n",
       "    <tr>\n",
       "      <th>7</th>\n",
       "      <td>Daniel du Evrard</td>\n",
       "      <td>12, boulevard de Rousseau\\n48663 Saint RémyBourg</td>\n",
       "    </tr>\n",
       "    <tr>\n",
       "      <th>8</th>\n",
       "      <td>Tristan Meyer-Meunier</td>\n",
       "      <td>51, rue Tanguy\\n01912 Noël</td>\n",
       "    </tr>\n",
       "    <tr>\n",
       "      <th>9</th>\n",
       "      <td>Anne-Josette Vaillant</td>\n",
       "      <td>avenue Navarro\\n46051 VerdierVille</td>\n",
       "    </tr>\n",
       "  </tbody>\n",
       "</table>\n",
       "</div>"
      ],
      "text/plain": [
       "                        nom                                            adresse\n",
       "0             Susanne Lucas  12, boulevard Lemonnier\\n17442 Sainte Matthieu...\n",
       "1           Caroline Dijoux   76, rue Marcel Guillet\\n90269 Schneider-la-Forêt\n",
       "2         Valentine Schmitt    5, chemin Pauline Fabre\\n83650 Bonnin-sur-Leleu\n",
       "3  Théodore Lévêque-Barbier                134, chemin Lenoir\\n84614 Traorenec\n",
       "4           Auguste Charles              66, avenue Michèle Perret\\n80273 Mahe\n",
       "5      Thierry Tanguy-Bodin                       42, rue Fouquet\\n25512 Pires\n",
       "6       Julie Samson-Brunet         58, avenue Henri Delattre\\n86760 Chevalier\n",
       "7          Daniel du Evrard   12, boulevard de Rousseau\\n48663 Saint RémyBourg\n",
       "8     Tristan Meyer-Meunier                         51, rue Tanguy\\n01912 Noël\n",
       "9     Anne-Josette Vaillant                 avenue Navarro\\n46051 VerdierVille"
      ]
     },
     "execution_count": 103,
     "metadata": {},
     "output_type": "execute_result"
    }
   ],
   "source": [
    "df.head(10)"
   ]
  },
  {
   "cell_type": "code",
   "execution_count": 106,
   "metadata": {},
   "outputs": [],
   "source": [
    "aze = df.to_sql('products', if_exists='replace',con = engine, index = False)"
   ]
  },
  {
   "cell_type": "code",
   "execution_count": 105,
   "metadata": {},
   "outputs": [
    {
     "name": "stdout",
     "output_type": "stream",
     "text": [
      "('Suzanne Fleury', '912, rue Eugène Collin\\n17666 Sainte Maurice')\n",
      "('Philippine Pineau', '63, boulevard de Bonnin\\n51051 Guillaume')\n",
      "('Marc Martinez', '29, rue de Buisson\\n22618 Étienne')\n",
      "('Geneviève Bousquet', '57, rue de Masson\\n11070 Robert-sur-Gaudin')\n",
      "('Timothée Lefèvre', 'boulevard de Roger\\n89142 Saint Michèle')\n",
      "('Emmanuelle Renard', 'avenue Gilbert Leblanc\\n57765 Saint Simonenec')\n",
      "('Théophile de la Joseph', '311, boulevard Besnard\\n25231 Sainte Jacques')\n",
      "('Nathalie Samson-Monnier', '40, boulevard de Lopez\\n93117 Chevallier')\n",
      "('Colette Martins', '76, rue Lamy\\n27966 Rey')\n",
      "('Margaux Petitjean-Da Silva', 'avenue de Lejeune\\n51449 Lévêquedan')\n"
     ]
    }
   ],
   "source": [
    "c.execute('''  \n",
    "SELECT * FROM products\n",
    "          ''')\n",
    "\n",
    "for row in c.fetchall():\n",
    "    print (row)"
   ]
  }
 ],
 "metadata": {
  "kernelspec": {
   "display_name": "Python 3.10.4 ('briefsql')",
   "language": "python",
   "name": "python3"
  },
  "language_info": {
   "codemirror_mode": {
    "name": "ipython",
    "version": 3
   },
   "file_extension": ".py",
   "mimetype": "text/x-python",
   "name": "python",
   "nbconvert_exporter": "python",
   "pygments_lexer": "ipython3",
   "version": "3.10.4"
  },
  "orig_nbformat": 4,
  "vscode": {
   "interpreter": {
    "hash": "66062081e44bb5277d8e414a13dfe298be444124435603c2e8a4ad0125e17b7a"
   }
  }
 },
 "nbformat": 4,
 "nbformat_minor": 2
}

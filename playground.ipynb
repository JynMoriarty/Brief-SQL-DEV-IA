{
 "cells": [
  {
   "cell_type": "code",
   "execution_count": 173,
   "metadata": {},
   "outputs": [],
   "source": [
    "from faker import Faker\n",
    "import pandas as pd\n",
    "import numpy as np\n",
    "import sqlite3\n",
    "from sqlalchemy import create_engine"
   ]
  },
  {
   "cell_type": "code",
   "execution_count": 174,
   "metadata": {},
   "outputs": [],
   "source": [
    "db_uri = 'sqlite:///file.db'\n",
    "engine = create_engine(db_uri, echo=False)"
   ]
  },
  {
   "cell_type": "code",
   "execution_count": 175,
   "metadata": {},
   "outputs": [],
   "source": [
    "conn = sqlite3.connect('test_database')"
   ]
  },
  {
   "cell_type": "code",
   "execution_count": 176,
   "metadata": {},
   "outputs": [],
   "source": [
    "c = conn.cursor()"
   ]
  },
  {
   "cell_type": "code",
   "execution_count": 177,
   "metadata": {},
   "outputs": [],
   "source": [
    "f = Faker(\"fr_FR\")"
   ]
  },
  {
   "cell_type": "code",
   "execution_count": 178,
   "metadata": {},
   "outputs": [],
   "source": [
    "nom = []\n",
    "adresse = []"
   ]
  },
  {
   "cell_type": "code",
   "execution_count": 179,
   "metadata": {},
   "outputs": [],
   "source": [
    "for _ in range(10):\n",
    "    nom.append(f.name())"
   ]
  },
  {
   "cell_type": "code",
   "execution_count": 180,
   "metadata": {},
   "outputs": [
    {
     "data": {
      "text/plain": [
       "['Denis Lucas',\n",
       " 'Manon Dumas',\n",
       " 'Théophile-Grégoire Maurice',\n",
       " 'Suzanne-Cécile Dubois',\n",
       " 'Jérôme Blondel',\n",
       " 'Henri Diaz',\n",
       " 'Josette Menard',\n",
       " 'Matthieu Alves de De Sousa',\n",
       " 'Corinne-Élisabeth Jourdan',\n",
       " 'Adélaïde Michaud']"
      ]
     },
     "execution_count": 180,
     "metadata": {},
     "output_type": "execute_result"
    }
   ],
   "source": [
    "nom"
   ]
  },
  {
   "cell_type": "code",
   "execution_count": 181,
   "metadata": {},
   "outputs": [],
   "source": [
    "for _ in range(10):\n",
    "    adresse.append(f.address())"
   ]
  },
  {
   "cell_type": "code",
   "execution_count": 182,
   "metadata": {},
   "outputs": [],
   "source": [
    "df = pd.DataFrame(zip(nom,adresse),columns=[\"nom\",\"adresse\"])"
   ]
  },
  {
   "cell_type": "code",
   "execution_count": 183,
   "metadata": {},
   "outputs": [
    {
     "data": {
      "text/html": [
       "<div>\n",
       "<style scoped>\n",
       "    .dataframe tbody tr th:only-of-type {\n",
       "        vertical-align: middle;\n",
       "    }\n",
       "\n",
       "    .dataframe tbody tr th {\n",
       "        vertical-align: top;\n",
       "    }\n",
       "\n",
       "    .dataframe thead th {\n",
       "        text-align: right;\n",
       "    }\n",
       "</style>\n",
       "<table border=\"1\" class=\"dataframe\">\n",
       "  <thead>\n",
       "    <tr style=\"text-align: right;\">\n",
       "      <th></th>\n",
       "      <th>nom</th>\n",
       "      <th>adresse</th>\n",
       "    </tr>\n",
       "  </thead>\n",
       "  <tbody>\n",
       "    <tr>\n",
       "      <th>0</th>\n",
       "      <td>Denis Lucas</td>\n",
       "      <td>4, boulevard Huet\\n18135 Germain</td>\n",
       "    </tr>\n",
       "    <tr>\n",
       "      <th>1</th>\n",
       "      <td>Manon Dumas</td>\n",
       "      <td>27, rue Perez\\n78870 Carlier-sur-Giraud</td>\n",
       "    </tr>\n",
       "    <tr>\n",
       "      <th>2</th>\n",
       "      <td>Théophile-Grégoire Maurice</td>\n",
       "      <td>458, chemin de Perrot\\n76223 Rémy-sur-Rossi</td>\n",
       "    </tr>\n",
       "    <tr>\n",
       "      <th>3</th>\n",
       "      <td>Suzanne-Cécile Dubois</td>\n",
       "      <td>61, rue Aubry\\n95734 Hernandezdan</td>\n",
       "    </tr>\n",
       "    <tr>\n",
       "      <th>4</th>\n",
       "      <td>Jérôme Blondel</td>\n",
       "      <td>53, boulevard de Perret\\n17555 Saint Aurore</td>\n",
       "    </tr>\n",
       "    <tr>\n",
       "      <th>5</th>\n",
       "      <td>Henri Diaz</td>\n",
       "      <td>9, boulevard de Morel\\n15624 Sainte Alice</td>\n",
       "    </tr>\n",
       "    <tr>\n",
       "      <th>6</th>\n",
       "      <td>Josette Menard</td>\n",
       "      <td>71, chemin Martin Boulay\\n12209 Lenoirdan</td>\n",
       "    </tr>\n",
       "    <tr>\n",
       "      <th>7</th>\n",
       "      <td>Matthieu Alves de De Sousa</td>\n",
       "      <td>75, avenue Jacob\\n07960 Pottier</td>\n",
       "    </tr>\n",
       "    <tr>\n",
       "      <th>8</th>\n",
       "      <td>Corinne-Élisabeth Jourdan</td>\n",
       "      <td>624, rue de Chauveau\\n72563 Bouvetboeuf</td>\n",
       "    </tr>\n",
       "    <tr>\n",
       "      <th>9</th>\n",
       "      <td>Adélaïde Michaud</td>\n",
       "      <td>54, avenue Laurent Berthelot\\n40749 Sainte Lucie</td>\n",
       "    </tr>\n",
       "  </tbody>\n",
       "</table>\n",
       "</div>"
      ],
      "text/plain": [
       "                          nom  \\\n",
       "0                 Denis Lucas   \n",
       "1                 Manon Dumas   \n",
       "2  Théophile-Grégoire Maurice   \n",
       "3       Suzanne-Cécile Dubois   \n",
       "4              Jérôme Blondel   \n",
       "5                  Henri Diaz   \n",
       "6              Josette Menard   \n",
       "7  Matthieu Alves de De Sousa   \n",
       "8   Corinne-Élisabeth Jourdan   \n",
       "9            Adélaïde Michaud   \n",
       "\n",
       "                                            adresse  \n",
       "0                  4, boulevard Huet\\n18135 Germain  \n",
       "1           27, rue Perez\\n78870 Carlier-sur-Giraud  \n",
       "2       458, chemin de Perrot\\n76223 Rémy-sur-Rossi  \n",
       "3                 61, rue Aubry\\n95734 Hernandezdan  \n",
       "4       53, boulevard de Perret\\n17555 Saint Aurore  \n",
       "5         9, boulevard de Morel\\n15624 Sainte Alice  \n",
       "6         71, chemin Martin Boulay\\n12209 Lenoirdan  \n",
       "7                   75, avenue Jacob\\n07960 Pottier  \n",
       "8           624, rue de Chauveau\\n72563 Bouvetboeuf  \n",
       "9  54, avenue Laurent Berthelot\\n40749 Sainte Lucie  "
      ]
     },
     "execution_count": 183,
     "metadata": {},
     "output_type": "execute_result"
    }
   ],
   "source": [
    "df.head(10)"
   ]
  },
  {
   "cell_type": "code",
   "execution_count": 184,
   "metadata": {},
   "outputs": [],
   "source": [
    "aze = df.to_sql('products', conn, if_exists='replace', index = False)"
   ]
  },
  {
   "cell_type": "code",
   "execution_count": 185,
   "metadata": {},
   "outputs": [
    {
     "name": "stdout",
     "output_type": "stream",
     "text": [
      "('Denis Lucas', '4, boulevard Huet\\n18135 Germain')\n",
      "('Manon Dumas', '27, rue Perez\\n78870 Carlier-sur-Giraud')\n",
      "('Théophile-Grégoire Maurice', '458, chemin de Perrot\\n76223 Rémy-sur-Rossi')\n",
      "('Suzanne-Cécile Dubois', '61, rue Aubry\\n95734 Hernandezdan')\n",
      "('Jérôme Blondel', '53, boulevard de Perret\\n17555 Saint Aurore')\n",
      "('Henri Diaz', '9, boulevard de Morel\\n15624 Sainte Alice')\n",
      "('Josette Menard', '71, chemin Martin Boulay\\n12209 Lenoirdan')\n",
      "('Matthieu Alves de De Sousa', '75, avenue Jacob\\n07960 Pottier')\n",
      "('Corinne-Élisabeth Jourdan', '624, rue de Chauveau\\n72563 Bouvetboeuf')\n",
      "('Adélaïde Michaud', '54, avenue Laurent Berthelot\\n40749 Sainte Lucie')\n"
     ]
    }
   ],
   "source": [
    "c.execute('''  \n",
    "SELECT * FROM products\n",
    "          ''')\n",
    "\n",
    "for row in c.fetchall():\n",
    "    print (row)"
   ]
  }
 ],
 "metadata": {
  "kernelspec": {
   "display_name": "Python 3.10.4 ('briefsql')",
   "language": "python",
   "name": "python3"
  },
  "language_info": {
   "codemirror_mode": {
    "name": "ipython",
    "version": 3
   },
   "file_extension": ".py",
   "mimetype": "text/x-python",
   "name": "python",
   "nbconvert_exporter": "python",
   "pygments_lexer": "ipython3",
   "version": "3.10.4"
  },
  "orig_nbformat": 4,
  "vscode": {
   "interpreter": {
    "hash": "66062081e44bb5277d8e414a13dfe298be444124435603c2e8a4ad0125e17b7a"
   }
  }
 },
 "nbformat": 4,
 "nbformat_minor": 2
}
